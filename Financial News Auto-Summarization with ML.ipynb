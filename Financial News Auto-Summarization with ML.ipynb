{
 "cells": [
  {
   "cell_type": "markdown",
   "id": "7b4a37e0",
   "metadata": {},
   "source": [
    "# Financial News Article Summarizer\n",
    "## A Python-based Solution for Extracting Insights and Analyzing Sentiment"
   ]
  },
  {
   "cell_type": "markdown",
   "id": "45cf7d13",
   "metadata": {},
   "source": [
    "In this project, I have built a financial news article summarizer in Python. \n",
    "The goal of this project is to extract useful information from news articles and provide a summary of their contents, as well as analyze the sentiment of the article. \n",
    "\n",
    "To achieve this, I have used several technologies and libraries, including the newspaper library for article extraction and natural language processing, the TextBlob library for sentiment analysis, and the nltk library for additional natural language processing functionality. \n",
    "\n",
    "My code is designed to be simple and easily modifiable, allowing for future improvements and customization."
   ]
  },
  {
   "cell_type": "code",
   "execution_count": 8,
   "id": "71316c44",
   "metadata": {},
   "outputs": [],
   "source": [
    "# Import necessary libraries\n",
    "import nltk\n",
    "from textblob import TextBlob\n",
    "from newspaper import Article"
   ]
  },
  {
   "cell_type": "code",
   "execution_count": 18,
   "id": "86741f11",
   "metadata": {},
   "outputs": [
    {
     "name": "stderr",
     "output_type": "stream",
     "text": [
      "[nltk_data] Downloading package punkt to C:\\Users\\user.DESKTOP-\n",
      "[nltk_data]     OMQ89VA\\AppData\\Roaming\\nltk_data...\n",
      "[nltk_data]   Package punkt is already up-to-date!\n"
     ]
    },
    {
     "data": {
      "text/plain": [
       "True"
      ]
     },
     "execution_count": 18,
     "metadata": {},
     "output_type": "execute_result"
    }
   ],
   "source": [
    "# Download required NLTK data\n",
    "nltk.download('punkt')"
   ]
  },
  {
   "cell_type": "code",
   "execution_count": 15,
   "id": "0ae4c9dd",
   "metadata": {},
   "outputs": [],
   "source": [
    "# Specify URL of the news article to be summarized\n",
    "url = 'https://www.cnbc.com/2023/02/14/heres-the-average-tax-refund-through-feb-3-according-to-the-irs.html'"
   ]
  },
  {
   "cell_type": "code",
   "execution_count": 19,
   "id": "69d49a33",
   "metadata": {},
   "outputs": [],
   "source": [
    "# Initialize an Article object with the specified URL\n",
    "article = Article(url)\n",
    "\n",
    "# Download and parse the article's HTML\n",
    "article.download()\n",
    "article.parse()\n",
    "\n",
    "# Use natural language processing to extract useful information from the article\n",
    "article.nlp()"
   ]
  },
  {
   "cell_type": "code",
   "execution_count": 17,
   "id": "be9bdaaa",
   "metadata": {},
   "outputs": [
    {
     "name": "stdout",
     "output_type": "stream",
     "text": [
      "Title: The IRS has issued nearly 8 million tax refunds. Here’s the average payment\n",
      "\n",
      "\n",
      "Authors: ['Kate Dore', 'Cfp']\n",
      "\n",
      "\n",
      "Publication Date: 2023-02-14 00:00:00\n",
      "\n",
      "\n",
      "Summary: Bill Oxford | E+ | Getty ImagesTax season is underway, and the IRS has issued nearly 8 million refunds worth about $15.7 billion as of Feb. 3, the agency reported.\n",
      "The average refund amount was $1,963, down from last year's average payment of $2,201 at the same point in the filing season.\n",
      "Of course, the average may change as the IRS processes millions more returns before the April 18 deadline.\n",
      "As of Feb. 3, the IRS had processed more than 16.7 million returns, 29% more than the previous year, according to the report released last Friday.\n",
      "The nearly 8 million refunds compare to around 4.3 million the previous year.\n",
      "\n",
      "\n",
      "0.08631436314363145\n",
      "Sentiment: Positive\n"
     ]
    }
   ],
   "source": [
    "# Print the article's title, author(s), publication date and summary\n",
    "print(f'Title: {article.title}')\n",
    "print('\\n')\n",
    "print(f'Authors: {article.authors}')\n",
    "print('\\n')\n",
    "print(f'Publication Date: {article.publish_date}')\n",
    "print('\\n')\n",
    "print(f'Summary: {article.summary}')\n",
    "\n",
    "# Analyze the sentiment of the article using TextBlob\n",
    "analysis = TextBlob(article.text)\n",
    "print('\\n')\n",
    "\n",
    "# Print the polarity (i.e. sentiment score) of the article\n",
    "print(analysis.polarity)\n",
    "\n",
    "# Print whether the sentiment of the article is positive, negative, or neutral\n",
    "print(f'Sentiment: {\"Positive\" if analysis.polarity > 0 else \"Negative\" if analysis.polarity < 0 else \"Neutral\"}')"
   ]
  }
 ],
 "metadata": {
  "kernelspec": {
   "display_name": "Python 3 (ipykernel)",
   "language": "python",
   "name": "python3"
  },
  "language_info": {
   "codemirror_mode": {
    "name": "ipython",
    "version": 3
   },
   "file_extension": ".py",
   "mimetype": "text/x-python",
   "name": "python",
   "nbconvert_exporter": "python",
   "pygments_lexer": "ipython3",
   "version": "3.9.15"
  }
 },
 "nbformat": 4,
 "nbformat_minor": 5
}
